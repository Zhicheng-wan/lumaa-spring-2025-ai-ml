{
 "cells": [
  {
   "cell_type": "code",
   "execution_count": 1,
   "id": "f64c6a2f-d784-4d76-bd2d-44b4030abee3",
   "metadata": {},
   "outputs": [],
   "source": [
    "import zipfile\n",
    "import pandas as pd\n",
    "from sklearn.feature_extraction.text import TfidfVectorizer\n",
    "from sklearn.metrics.pairwise import cosine_similarity"
   ]
  },
  {
   "cell_type": "code",
   "execution_count": 15,
   "id": "2ada185b-20dd-4be0-a195-d1b1359ce4e7",
   "metadata": {},
   "outputs": [
    {
     "name": "stdout",
     "output_type": "stream",
     "text": [
      "      budget                                             genres  \\\n",
      "0  237000000  [{\"id\": 28, \"name\": \"Action\"}, {\"id\": 12, \"nam...   \n",
      "1  300000000  [{\"id\": 12, \"name\": \"Adventure\"}, {\"id\": 14, \"...   \n",
      "2  245000000  [{\"id\": 28, \"name\": \"Action\"}, {\"id\": 12, \"nam...   \n",
      "3  250000000  [{\"id\": 28, \"name\": \"Action\"}, {\"id\": 80, \"nam...   \n",
      "4  260000000  [{\"id\": 28, \"name\": \"Action\"}, {\"id\": 12, \"nam...   \n",
      "\n",
      "                                       homepage      id  \\\n",
      "0                   http://www.avatarmovie.com/   19995   \n",
      "1  http://disney.go.com/disneypictures/pirates/     285   \n",
      "2   http://www.sonypictures.com/movies/spectre/  206647   \n",
      "3            http://www.thedarkknightrises.com/   49026   \n",
      "4          http://movies.disney.com/john-carter   49529   \n",
      "\n",
      "                                            keywords original_language  \\\n",
      "0  [{\"id\": 1463, \"name\": \"culture clash\"}, {\"id\":...                en   \n",
      "1  [{\"id\": 270, \"name\": \"ocean\"}, {\"id\": 726, \"na...                en   \n",
      "2  [{\"id\": 470, \"name\": \"spy\"}, {\"id\": 818, \"name...                en   \n",
      "3  [{\"id\": 849, \"name\": \"dc comics\"}, {\"id\": 853,...                en   \n",
      "4  [{\"id\": 818, \"name\": \"based on novel\"}, {\"id\":...                en   \n",
      "\n",
      "                             original_title  \\\n",
      "0                                    Avatar   \n",
      "1  Pirates of the Caribbean: At World's End   \n",
      "2                                   Spectre   \n",
      "3                     The Dark Knight Rises   \n",
      "4                               John Carter   \n",
      "\n",
      "                                            overview  popularity  \\\n",
      "0  In the 22nd century, a paraplegic Marine is di...  150.437577   \n",
      "1  Captain Barbossa, long believed to be dead, ha...  139.082615   \n",
      "2  A cryptic message from Bond’s past sends him o...  107.376788   \n",
      "3  Following the death of District Attorney Harve...  112.312950   \n",
      "4  John Carter is a war-weary, former military ca...   43.926995   \n",
      "\n",
      "                                production_companies  \\\n",
      "0  [{\"name\": \"Ingenious Film Partners\", \"id\": 289...   \n",
      "1  [{\"name\": \"Walt Disney Pictures\", \"id\": 2}, {\"...   \n",
      "2  [{\"name\": \"Columbia Pictures\", \"id\": 5}, {\"nam...   \n",
      "3  [{\"name\": \"Legendary Pictures\", \"id\": 923}, {\"...   \n",
      "4        [{\"name\": \"Walt Disney Pictures\", \"id\": 2}]   \n",
      "\n",
      "                                production_countries release_date     revenue  \\\n",
      "0  [{\"iso_3166_1\": \"US\", \"name\": \"United States o...   2009-12-10  2787965087   \n",
      "1  [{\"iso_3166_1\": \"US\", \"name\": \"United States o...   2007-05-19   961000000   \n",
      "2  [{\"iso_3166_1\": \"GB\", \"name\": \"United Kingdom\"...   2015-10-26   880674609   \n",
      "3  [{\"iso_3166_1\": \"US\", \"name\": \"United States o...   2012-07-16  1084939099   \n",
      "4  [{\"iso_3166_1\": \"US\", \"name\": \"United States o...   2012-03-07   284139100   \n",
      "\n",
      "   runtime                                   spoken_languages    status  \\\n",
      "0    162.0  [{\"iso_639_1\": \"en\", \"name\": \"English\"}, {\"iso...  Released   \n",
      "1    169.0           [{\"iso_639_1\": \"en\", \"name\": \"English\"}]  Released   \n",
      "2    148.0  [{\"iso_639_1\": \"fr\", \"name\": \"Fran\\u00e7ais\"},...  Released   \n",
      "3    165.0           [{\"iso_639_1\": \"en\", \"name\": \"English\"}]  Released   \n",
      "4    132.0           [{\"iso_639_1\": \"en\", \"name\": \"English\"}]  Released   \n",
      "\n",
      "                                          tagline  \\\n",
      "0                     Enter the World of Pandora.   \n",
      "1  At the end of the world, the adventure begins.   \n",
      "2                           A Plan No One Escapes   \n",
      "3                                 The Legend Ends   \n",
      "4            Lost in our world, found in another.   \n",
      "\n",
      "                                      title  vote_average  vote_count  \n",
      "0                                    Avatar           7.2       11800  \n",
      "1  Pirates of the Caribbean: At World's End           6.9        4500  \n",
      "2                                   Spectre           6.3        4466  \n",
      "3                     The Dark Knight Rises           7.6        9106  \n",
      "4                               John Carter           6.1        2124  \n"
     ]
    }
   ],
   "source": [
    "zip_path = 'archive (1).zip'\n",
    "\n",
    "# open\n",
    "with zipfile.ZipFile(zip_path, 'r') as z:\n",
    "    csv_filename = 'tmdb_5000_movies.csv'\n",
    "    \n",
    "    with z.open(csv_filename) as f:\n",
    "        df = pd.read_csv(f)\n",
    "\n",
    "print(df.head())"
   ]
  },
  {
   "cell_type": "code",
   "execution_count": 16,
   "id": "d0663133-d1bd-4394-bbaa-6d82f80c0b3e",
   "metadata": {},
   "outputs": [],
   "source": [
    "df['overview'] = df['overview'].fillna('')"
   ]
  },
  {
   "cell_type": "code",
   "execution_count": 17,
   "id": "b20dd05b-d2eb-4e42-b95f-b0439e742fac",
   "metadata": {},
   "outputs": [
    {
     "name": "stdout",
     "output_type": "stream",
     "text": [
      "TF-IDF matrix shape: (4803, 20978)\n"
     ]
    }
   ],
   "source": [
    "# TF-IDF vectorizer\n",
    "vectorizer = TfidfVectorizer(stop_words='english')\n",
    "\n",
    "# TF-IDF matrix \n",
    "tfidf_matrix = vectorizer.fit_transform(df['overview'])\n",
    "\n",
    "print(\"TF-IDF matrix shape:\", tfidf_matrix.shape)"
   ]
  },
  {
   "cell_type": "code",
   "execution_count": 11,
   "id": "4c2e6564-264c-4aab-a89d-d77a23c825bd",
   "metadata": {},
   "outputs": [],
   "source": [
    "def recommend_movies(query, vectorizer, tfidf_matrix, df, top_n=5):\n",
    "    \"\"\"\n",
    "    Compute cosine similarity between the query and each movie overview, \n",
    "    and return the top N recommended movies with their similarity scores.\n",
    "    \n",
    "    Args:\n",
    "        query (str): User input describing movie preferences.\n",
    "        vectorizer: Fitted TF-IDF vectorizer.\n",
    "        tfidf_matrix: TF-IDF matrix of movie overviews.\n",
    "        df (pd.DataFrame): Original movie DataFrame.\n",
    "        top_n (int): Number of top recommendations to return.\n",
    "        \n",
    "    Returns:\n",
    "        pd.DataFrame: DataFrame containing recommended movie titles and similarity scores.\n",
    "    \"\"\"\n",
    "    # Transform the query to TF-IDF vector space\n",
    "    query_vec = vectorizer.transform([query])\n",
    "    \n",
    "    # Compute cosine similarity\n",
    "    cosine_sim = cosine_similarity(query_vec, tfidf_matrix).flatten()\n",
    "    \n",
    "    # Get indices of top N movies\n",
    "    top_indices = cosine_sim.argsort()[-top_n:][::-1]\n",
    "    \n",
    "    # recommendations DataFrame\n",
    "    recommendations = df.iloc[top_indices].copy()\n",
    "    recommendations['similarity'] = cosine_sim[top_indices]\n",
    "    \n",
    "    return recommendations[['title', 'similarity']]"
   ]
  },
  {
   "cell_type": "code",
   "execution_count": 13,
   "id": "842ffddd-d7fa-4a66-b8ab-48e8fb9cbe41",
   "metadata": {},
   "outputs": [
    {
     "name": "stdout",
     "output_type": "stream",
     "text": [
      "Recommendations for query: I love thrilling action movies set in space, with a comedic twist.\n"
     ]
    },
    {
     "data": {
      "text/html": [
       "<div>\n",
       "<style scoped>\n",
       "    .dataframe tbody tr th:only-of-type {\n",
       "        vertical-align: middle;\n",
       "    }\n",
       "\n",
       "    .dataframe tbody tr th {\n",
       "        vertical-align: top;\n",
       "    }\n",
       "\n",
       "    .dataframe thead th {\n",
       "        text-align: right;\n",
       "    }\n",
       "</style>\n",
       "<table border=\"1\" class=\"dataframe\">\n",
       "  <thead>\n",
       "    <tr style=\"text-align: right;\">\n",
       "      <th></th>\n",
       "      <th>title</th>\n",
       "      <th>similarity</th>\n",
       "    </tr>\n",
       "  </thead>\n",
       "  <tbody>\n",
       "    <tr>\n",
       "      <th>880</th>\n",
       "      <td>Grindhouse</td>\n",
       "      <td>0.179283</td>\n",
       "    </tr>\n",
       "    <tr>\n",
       "      <th>603</th>\n",
       "      <td>Hard Rain</td>\n",
       "      <td>0.157646</td>\n",
       "    </tr>\n",
       "    <tr>\n",
       "      <th>1054</th>\n",
       "      <td>Scary Movie 2</td>\n",
       "      <td>0.156413</td>\n",
       "    </tr>\n",
       "    <tr>\n",
       "      <th>1709</th>\n",
       "      <td>Space Pirate Captain Harlock</td>\n",
       "      <td>0.153771</td>\n",
       "    </tr>\n",
       "    <tr>\n",
       "      <th>4453</th>\n",
       "      <td>Crying with Laughter</td>\n",
       "      <td>0.149720</td>\n",
       "    </tr>\n",
       "  </tbody>\n",
       "</table>\n",
       "</div>"
      ],
      "text/plain": [
       "                             title  similarity\n",
       "880                     Grindhouse    0.179283\n",
       "603                      Hard Rain    0.157646\n",
       "1054                 Scary Movie 2    0.156413\n",
       "1709  Space Pirate Captain Harlock    0.153771\n",
       "4453          Crying with Laughter    0.149720"
      ]
     },
     "metadata": {},
     "output_type": "display_data"
    }
   ],
   "source": [
    "# Example\n",
    "query = \"I love thrilling action movies set in space, with a comedic twist.\"\n",
    "\n",
    "recommendations = recommend_movies(query, vectorizer, tfidf_matrix, df, top_n=5)\n",
    "\n",
    "print(\"Recommendations for query:\", query)\n",
    "display(recommendations)"
   ]
  },
  {
   "cell_type": "code",
   "execution_count": 19,
   "id": "0afab954-d28f-4ce2-b26b-4a835ce081aa",
   "metadata": {},
   "outputs": [
    {
     "name": "stdout",
     "output_type": "stream",
     "text": [
      "Recommendations for query: 22nd century\n"
     ]
    },
    {
     "data": {
      "text/html": [
       "<div>\n",
       "<style scoped>\n",
       "    .dataframe tbody tr th:only-of-type {\n",
       "        vertical-align: middle;\n",
       "    }\n",
       "\n",
       "    .dataframe tbody tr th {\n",
       "        vertical-align: top;\n",
       "    }\n",
       "\n",
       "    .dataframe thead th {\n",
       "        text-align: right;\n",
       "    }\n",
       "</style>\n",
       "<table border=\"1\" class=\"dataframe\">\n",
       "  <thead>\n",
       "    <tr style=\"text-align: right;\">\n",
       "      <th></th>\n",
       "      <th>title</th>\n",
       "      <th>similarity</th>\n",
       "    </tr>\n",
       "  </thead>\n",
       "  <tbody>\n",
       "    <tr>\n",
       "      <th>0</th>\n",
       "      <td>Avatar</td>\n",
       "      <td>0.364566</td>\n",
       "    </tr>\n",
       "    <tr>\n",
       "      <th>634</th>\n",
       "      <td>The Matrix</td>\n",
       "      <td>0.362916</td>\n",
       "    </tr>\n",
       "    <tr>\n",
       "      <th>1341</th>\n",
       "      <td>The Inhabited Island</td>\n",
       "      <td>0.339946</td>\n",
       "    </tr>\n",
       "    <tr>\n",
       "      <th>775</th>\n",
       "      <td>Supernova</td>\n",
       "      <td>0.259156</td>\n",
       "    </tr>\n",
       "    <tr>\n",
       "      <th>1274</th>\n",
       "      <td>Just Visiting</td>\n",
       "      <td>0.198323</td>\n",
       "    </tr>\n",
       "  </tbody>\n",
       "</table>\n",
       "</div>"
      ],
      "text/plain": [
       "                     title  similarity\n",
       "0                   Avatar    0.364566\n",
       "634             The Matrix    0.362916\n",
       "1341  The Inhabited Island    0.339946\n",
       "775              Supernova    0.259156\n",
       "1274         Just Visiting    0.198323"
      ]
     },
     "metadata": {},
     "output_type": "display_data"
    }
   ],
   "source": [
    "# Example\n",
    "query = \"22nd century\"\n",
    "\n",
    "recommendations = recommend_movies(query, vectorizer, tfidf_matrix, df, top_n=5)\n",
    "\n",
    "print(\"Recommendations for query:\", query)\n",
    "display(recommendations)"
   ]
  },
  {
   "cell_type": "code",
   "execution_count": 21,
   "id": "c972800c-355d-4baf-a8fd-46aba3d4e800",
   "metadata": {},
   "outputs": [
    {
     "data": {
      "text/plain": [
       "634    Set in the 22nd century, The Matrix tells the ...\n",
       "Name: overview, dtype: object"
      ]
     },
     "execution_count": 21,
     "metadata": {},
     "output_type": "execute_result"
    }
   ],
   "source": [
    "df[df['original_title']=='The Matrix'].get('overview')"
   ]
  },
  {
   "cell_type": "code",
   "execution_count": null,
   "id": "cff41797-c85d-4a3d-8b64-2d74b1c6609e",
   "metadata": {},
   "outputs": [],
   "source": []
  }
 ],
 "metadata": {
  "kernelspec": {
   "display_name": "Python 3 (ipykernel)",
   "language": "python",
   "name": "python3"
  },
  "language_info": {
   "codemirror_mode": {
    "name": "ipython",
    "version": 3
   },
   "file_extension": ".py",
   "mimetype": "text/x-python",
   "name": "python",
   "nbconvert_exporter": "python",
   "pygments_lexer": "ipython3",
   "version": "3.11.9"
  }
 },
 "nbformat": 4,
 "nbformat_minor": 5
}
